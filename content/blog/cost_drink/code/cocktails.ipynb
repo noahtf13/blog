{
 "cells": [
  {
   "cell_type": "code",
   "execution_count": 1,
   "metadata": {},
   "outputs": [],
   "source": [
    "import pandas as pd\n",
    "import plotly.express as px"
   ]
  },
  {
   "cell_type": "code",
   "execution_count": 2,
   "metadata": {},
   "outputs": [],
   "source": [
    "cocktails_pd = pd.read_csv(\"cocktail.csv\")"
   ]
  },
  {
   "cell_type": "code",
   "execution_count": 14,
   "metadata": {},
   "outputs": [],
   "source": [
    "cocktails_pd = cocktails_pd[~cocktails_pd['Restaurant'].str.contains('Little')]"
   ]
  },
  {
   "cell_type": "code",
   "execution_count": 15,
   "metadata": {},
   "outputs": [],
   "source": [
    "fig = px.scatter(\n",
    "    data_frame=cocktails_pd,\n",
    "    x='Price',\n",
    "    y='Restaurant',\n",
    "    title=\"Cocktail Prices in Minneapolis\",\n",
    "    hover_data=['Drink']\n",
    ")\n",
    "\n",
    "fig.write_html('/Users/noahford/Documents/Personal Repos/blog/layouts/shortcodes/cocktails.html')"
   ]
  },
  {
   "cell_type": "code",
   "execution_count": 16,
   "metadata": {},
   "outputs": [],
   "source": [
    "fig = px.box(\n",
    "    data_frame=cocktails_pd,\n",
    "    x='Price',\n",
    "    title='All Together'\n",
    ")\n",
    "\n",
    "fig.write_html('/Users/noahford/Documents/Personal Repos/blog/layouts/shortcodes/cocktails_all.html')"
   ]
  },
  {
   "cell_type": "code",
   "execution_count": null,
   "metadata": {},
   "outputs": [],
   "source": []
  }
 ],
 "metadata": {
  "kernelspec": {
   "display_name": "Python 3.9.16 64-bit ('blog-2')",
   "language": "python",
   "name": "python3"
  },
  "language_info": {
   "codemirror_mode": {
    "name": "ipython",
    "version": 3
   },
   "file_extension": ".py",
   "mimetype": "text/x-python",
   "name": "python",
   "nbconvert_exporter": "python",
   "pygments_lexer": "ipython3",
   "version": "3.9.16"
  },
  "orig_nbformat": 4,
  "vscode": {
   "interpreter": {
    "hash": "a6a4ce97eecd3289c5d157fa24ca0e3f5755999956d116b23e09237fab9ef570"
   }
  }
 },
 "nbformat": 4,
 "nbformat_minor": 2
}
